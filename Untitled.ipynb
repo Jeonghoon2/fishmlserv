{
 "cells": [
  {
   "cell_type": "code",
   "execution_count": 1,
   "id": "c563b4ca-82ef-4427-90ac-fe4e1c366380",
   "metadata": {},
   "outputs": [],
   "source": [
    "bream_length = [25.4, 26.3, 26.5, 29.0, 29.0, 29.7, 29.7, 30.0, 30.0, 30.7, 31.0, 31.0, 31.5, 32.0, 32.0, 32.0, 33.0, 33.0, 33.5, 33.5, 34.0, 34.0, 34.5, 35.0, 35.0, 35.0, 35.0, 36.0, 36.0, 37.0, 38.5, 38.5, 39.5, 41.0, 41.0]\n",
    "bream_weight = [242.0, 290.0, 340.0, 363.0, 430.0, 450.0, 500.0, 390.0, 450.0, 500.0, 475.0, 500.0, 500.0, 340.0, 600.0, 600.0, 700.0, 700.0, 610.0, 650.0, 575.0, 685.0, 620.0, 680.0, 700.0, 725.0, 720.0, 714.0, 850.0, 1000.0, 920.0, 955.0, 925.0, 975.0, 950.0]\n",
    "\n",
    "smelt_length = [9.8, 10.5, 10.6, 11.0, 11.2, 11.3, 11.8, 11.8, 12.0, 12.2, 12.4, 13.0, 14.3, 15.0]\n",
    "smelt_weight = [6.7, 7.5, 7.0, 9.7, 9.8, 8.7, 10.0, 9.9, 9.8, 12.2, 13.4, 12.2, 19.7, 19.9]"
   ]
  },
  {
   "cell_type": "code",
   "execution_count": null,
   "id": "1a6c6098-8f30-4d0c-9e51-5ce34c6079c8",
   "metadata": {},
   "outputs": [],
   "source": [
    "from sklearn.neighbors import KNeighborsClassifier\n",
    "\n",
    "kn = KNeighborsClassifier()\n",
    "\n",
    "fish_data = []\n",
    "for l,w in zip(length, weight):\n",
    "    fish_data.append([l,w])\n",
    "fish_target = [1] * 35 + [0] * 14"
   ]
  },
  {
   "cell_type": "code",
   "execution_count": null,
   "id": "a321d965",
   "metadata": {},
   "outputs": [],
   "source": [
    "\n",
    "kn.fit(fish_data, fish_target)\n",
    "\n",
    "r= kn.predict([[30.1, 600.123]])\n",
    "if kn.predict([[30, 600]])[0] == 1:\n",
    "    print('도미')\n",
    "else:\n",
    "    print('빙어')"
   ]
  },
  {
   "cell_type": "code",
   "execution_count": null,
   "id": "df1a5bbd",
   "metadata": {},
   "outputs": [],
   "source": [
    "# 모델 저장하기\n",
    "import pickle\n",
    "\n",
    "with open(\"model.pkl\", \"wb\") as f:\n",
    "    pickle.dump(kn,f)\n",
    "\n",
    "# 모델 불러오기\n",
    "with open(\"model.pkl\", \"rb\") as f:\n",
    "    fish_model = pickle.load(f)\n",
    "\n",
    "fish_model.predict([[30.1, 600.123]])"
   ]
  }
 ],
 "metadata": {
  "kernelspec": {
   "display_name": "Python 3 (ipykernel)",
   "language": "python",
   "name": "python3"
  },
  "language_info": {
   "codemirror_mode": {
    "name": "ipython",
    "version": 3
   },
   "file_extension": ".py",
   "mimetype": "text/x-python",
   "name": "python",
   "nbconvert_exporter": "python",
   "pygments_lexer": "ipython3",
   "version": "3.11.9"
  }
 },
 "nbformat": 4,
 "nbformat_minor": 5
}
